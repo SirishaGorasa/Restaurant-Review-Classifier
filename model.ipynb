{
 "cells": [
  {
   "cell_type": "code",
   "execution_count": 1,
   "metadata": {},
   "outputs": [],
   "source": [
    "#data pre-processing\n",
    "import re\n",
    "import numpy as np\n",
    "import pandas as pd\n",
    "from pandas import DataFrame\n",
    "\n",
    "#microsoft nltk(Natural Language ToolKit)\n",
    "from nltk.corpus import stopwords\n",
    "from nltk.stem.porter import PorterStemmer\n",
    "\n",
    "#sklearn machine-learning libraries\n",
    "from sklearn.naive_bayes import MultinomialNB\n",
    "from sklearn.feature_extraction.text import CountVectorizer\n",
    "from sklearn.model_selection import train_test_split\n",
    "from sklearn.metrics import accuracy_score"
   ]
  },
  {
   "cell_type": "code",
   "execution_count": 25,
   "metadata": {},
   "outputs": [
    {
     "name": "stdout",
     "output_type": "stream",
     "text": [
      "82.5\n"
     ]
    }
   ],
   "source": [
    "class RestaurantReview:\n",
    "#Machine Learning model\n",
    "    def __init__(self):\n",
    "        self.classifier=MultinomialNB()\n",
    "        self.train_features=[]\n",
    "        self.test_features=[]\n",
    "        self.train_target=[]\n",
    "        self.test_target=[]\n",
    "    def build_classifier(self):\n",
    "        # Natural Language Processing\n",
    "        # Importing the libraries\n",
    "        # Importing the dataset\n",
    "        dataset = pd.read_csv(r\"Restaurant_Reviews.tsv\",delimiter ='\\t', quoting = 3)\n",
    "        # Cleaning the texts\n",
    "        corpus = []\n",
    "        for i in range(0, 1000):\n",
    "            review = re.sub('[^a-zA-Z]', ' ', dataset['Review'][i])\n",
    "            review = review.lower()\n",
    "            review = review.split()\n",
    "            ps = PorterStemmer()\n",
    "            review = [ps.stem(word) for word in review if not word in set(stopwords.words('english'))]\n",
    "            review = ' '.join(review)\n",
    "            corpus.append(review)\n",
    "\n",
    "        # Creating the Bag of Words model\n",
    "        cv = CountVectorizer(max_features = 1500)\n",
    "        X = cv.fit_transform(corpus).toarray()\n",
    "        y = dataset.iloc[:, 1].values\n",
    "\n",
    "        # Splitting the dataset into the Training set and Test set\n",
    "        self.train_features, self.test_features, self.train_target, self.test_target = train_test_split(X, y, test_size = 0.20)\n",
    "\n",
    "        # Fitting Naive Bayes to the Training set\n",
    "        self.classifier.fit(self.train_features, self.train_target)\n",
    "    def accuracy_score(self):\n",
    "        predicted_target = self.classifier.predict(self.test_features)\n",
    "        print(accuracy_score(predicted_target,self.test_target)*100)\n",
    "def main():\n",
    "    reviewer = RestaurantReview()\n",
    "    reviewer.build_classifier()\n",
    "    reviewer.accuracy_score()\n",
    "if __name__==\"__main__\":\n",
    "    #Entry point into application.\n",
    "    main()"
   ]
  },
  {
   "cell_type": "code",
   "execution_count": null,
   "metadata": {},
   "outputs": [],
   "source": []
  }
 ],
 "metadata": {
  "kernelspec": {
   "display_name": "Python 3",
   "language": "python",
   "name": "python3"
  },
  "language_info": {
   "codemirror_mode": {
    "name": "ipython",
    "version": 3
   },
   "file_extension": ".py",
   "mimetype": "text/x-python",
   "name": "python",
   "nbconvert_exporter": "python",
   "pygments_lexer": "ipython3",
   "version": "3.8.5"
  }
 },
 "nbformat": 4,
 "nbformat_minor": 4
}
